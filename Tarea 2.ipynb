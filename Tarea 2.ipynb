{
  "nbformat": 4,
  "nbformat_minor": 0,
  "metadata": {
    "colab": {
      "provenance": [],
      "authorship_tag": "ABX9TyNxHzaHfShDHcqrcmfiNKRf",
      "include_colab_link": true
    },
    "kernelspec": {
      "name": "python3",
      "display_name": "Python 3"
    },
    "language_info": {
      "name": "python"
    }
  },
  "cells": [
    {
      "cell_type": "markdown",
      "metadata": {
        "id": "view-in-github",
        "colab_type": "text"
      },
      "source": [
        "<a href=\"https://colab.research.google.com/github/NicoD920/analisisDatosPrimavera2024/blob/main/Tarea%202.ipynb\" target=\"_parent\"><img src=\"https://colab.research.google.com/assets/colab-badge.svg\" alt=\"Open In Colab\"/></a>"
      ]
    },
    {
      "cell_type": "markdown",
      "source": [
        "# Configuración general del entorno"
      ],
      "metadata": {
        "id": "I7dGN0PAYvOd"
      }
    },
    {
      "cell_type": "markdown",
      "source": [
        "## Entorno de trabajo en R"
      ],
      "metadata": {
        "id": "jvXbjaHOY3C7"
      }
    },
    {
      "cell_type": "code",
      "execution_count": 1,
      "metadata": {
        "colab": {
          "base_uri": "https://localhost:8080/"
        },
        "id": "7EFFcuI0WeKT",
        "outputId": "58b4fc85-195c-4abc-8dfc-6dd481b18f12"
      },
      "outputs": [
        {
          "output_type": "stream",
          "name": "stdout",
          "text": [
            "Collecting rpy2==3.5.1\n",
            "  Downloading rpy2-3.5.1.tar.gz (201 kB)\n",
            "\u001b[?25l     \u001b[90m━━━━━━━━━━━━━━━━━━━━━━━━━━━━━━━━━━━━━━━━\u001b[0m \u001b[32m0.0/201.7 kB\u001b[0m \u001b[31m?\u001b[0m eta \u001b[36m-:--:--\u001b[0m\r\u001b[2K     \u001b[91m━━━━━━━━━━━━━━━━━━━━━━━━━━━━━━━━━━━━━━\u001b[0m\u001b[91m╸\u001b[0m\u001b[90m━\u001b[0m \u001b[32m194.6/201.7 kB\u001b[0m \u001b[31m5.8 MB/s\u001b[0m eta \u001b[36m0:00:01\u001b[0m\r\u001b[2K     \u001b[90m━━━━━━━━━━━━━━━━━━━━━━━━━━━━━━━━━━━━━━━━\u001b[0m \u001b[32m201.7/201.7 kB\u001b[0m \u001b[31m4.1 MB/s\u001b[0m eta \u001b[36m0:00:00\u001b[0m\n",
            "\u001b[?25h  Preparing metadata (setup.py) ... \u001b[?25l\u001b[?25hdone\n",
            "Requirement already satisfied: cffi>=1.10.0 in /usr/local/lib/python3.10/dist-packages (from rpy2==3.5.1) (1.17.1)\n",
            "Requirement already satisfied: jinja2 in /usr/local/lib/python3.10/dist-packages (from rpy2==3.5.1) (3.1.4)\n",
            "Requirement already satisfied: pytz in /usr/local/lib/python3.10/dist-packages (from rpy2==3.5.1) (2024.2)\n",
            "Requirement already satisfied: tzlocal in /usr/local/lib/python3.10/dist-packages (from rpy2==3.5.1) (5.2)\n",
            "Requirement already satisfied: pycparser in /usr/local/lib/python3.10/dist-packages (from cffi>=1.10.0->rpy2==3.5.1) (2.22)\n",
            "Requirement already satisfied: MarkupSafe>=2.0 in /usr/local/lib/python3.10/dist-packages (from jinja2->rpy2==3.5.1) (3.0.2)\n",
            "Building wheels for collected packages: rpy2\n",
            "  Building wheel for rpy2 (setup.py) ... \u001b[?25l\u001b[?25hdone\n",
            "  Created wheel for rpy2: filename=rpy2-3.5.1-cp310-cp310-linux_x86_64.whl size=314947 sha256=c5fe9a50d232531ac2d48a51b69f6026afc98e2dc72a70d5cc86766129cfe361\n",
            "  Stored in directory: /root/.cache/pip/wheels/73/a6/ff/4e75dd1ce1cfa2b9a670cbccf6a1e41c553199e9b25f05d953\n",
            "Successfully built rpy2\n",
            "Installing collected packages: rpy2\n",
            "  Attempting uninstall: rpy2\n",
            "    Found existing installation: rpy2 3.4.2\n",
            "    Uninstalling rpy2-3.4.2:\n",
            "      Successfully uninstalled rpy2-3.4.2\n",
            "Successfully installed rpy2-3.5.1\n"
          ]
        }
      ],
      "source": [
        "!pip install rpy2==3.5.1\n",
        "%reload_ext rpy2.ipython"
      ]
    },
    {
      "cell_type": "markdown",
      "source": [
        "## Instalación de paquetes e importación"
      ],
      "metadata": {
        "id": "etxFWHijY6pk"
      }
    },
    {
      "cell_type": "code",
      "source": [
        "%%R\n",
        "if(!require(haven)){install.packages(\"haven\")}\n",
        "\n",
        "library(haven)\n",
        "library(readr)"
      ],
      "metadata": {
        "colab": {
          "base_uri": "https://localhost:8080/"
        },
        "id": "e6fQ7i95Xs5-",
        "outputId": "2a8013a1-a831-4525-ea1b-02220c3e6a77"
      },
      "execution_count": 11,
      "outputs": [
        {
          "output_type": "stream",
          "name": "stderr",
          "text": [
            "WARNING:rpy2.rinterface_lib.callbacks:R[write to console]: Loading required package: haven\n",
            "\n"
          ]
        }
      ]
    },
    {
      "cell_type": "markdown",
      "source": [
        "## Carga de datos"
      ],
      "metadata": {
        "id": "2vcJWXoPY_kk"
      }
    },
    {
      "cell_type": "code",
      "source": [
        "%%R\n",
        "base_diff_in_diff <- \"https://raw.githubusercontent.com/NicoD920/analisisDatosPrimavera2024/refs/heads/main/Tarea%202/Base%20(Diff%20in%20Diff).csv\"\n",
        "base_vi_rd <- \"https://raw.githubusercontent.com/NicoD920/analisisDatosPrimavera2024/refs/heads/main/Tarea%202/Base%20(VI%2C%20RD).csv\"\n",
        "base_vi_rd_dta <- \"https://github.com/NicoD920/analisisDatosPrimavera2024/raw/refs/heads/main/Tarea%202/Base%20(VI,%20RD).dta\"\n"
      ],
      "metadata": {
        "id": "Q8VaIEiZWsyr"
      },
      "execution_count": 7,
      "outputs": []
    },
    {
      "cell_type": "markdown",
      "source": [
        "## Definición de datas\n",
        "* data_base_diff (csv)\n",
        "* data_base_vird (csv)\n",
        "* data_base_vird_dta (dta)"
      ],
      "metadata": {
        "id": "lkF6RkRHZLYr"
      }
    },
    {
      "cell_type": "code",
      "source": [
        "%%R\n",
        "\n",
        "data_base_diff <- read_csv(base_diff_in_diff)\n",
        "head(data_base_diff)"
      ],
      "metadata": {
        "colab": {
          "base_uri": "https://localhost:8080/"
        },
        "id": "qjSurzC5Xi6H",
        "outputId": "92d57bc0-8bdd-44b8-d40f-088ebd977e16"
      },
      "execution_count": 13,
      "outputs": [
        {
          "output_type": "stream",
          "name": "stdout",
          "text": [
            "New names:\n",
            "• `` -> `...1`\n",
            "Rows: 321 Columns: 26\n",
            "── Column specification ────────────────────────────────────────────────────────\n",
            "Delimiter: \",\"\n",
            "dbl (26): ...1, year, age, agesq, nbh, cbd, intst, lintst, price, rooms, are...\n",
            "\n",
            "ℹ Use `spec()` to retrieve the full column specification for this data.\n",
            "ℹ Specify the column types or set `show_col_types = FALSE` to quiet this message.\n",
            "# A tibble: 6 × 26\n",
            "   ...1  year   age agesq   nbh   cbd intst lintst price rooms  area  land baths\n",
            "  <dbl> <dbl> <dbl> <dbl> <dbl> <dbl> <dbl>  <dbl> <dbl> <dbl> <dbl> <dbl> <dbl>\n",
            "1     1  1978    48  2304     4  3000  1000   6.91 60000     7  1660  4578     1\n",
            "2     2  1978    83  6889     4  4000  1000   6.91 40000     6  2612  8370     2\n",
            "3     3  1978    58  3364     4  4000  1000   6.91 34000     6  1144  5000     1\n",
            "4     4  1978    11   121     4  4000  1000   6.91 63900     5  1136 10000     1\n",
            "5     5  1978    48  2304     4  4000  2000   7.60 44000     5  1868 10000     1\n",
            "6     6  1978    78  6084     4  3000  2000   7.60 46000     6  1780  9500     3\n",
            "# ℹ 13 more variables: dist <dbl>, ldist <dbl>, wind <dbl>, lprice <dbl>,\n",
            "#   y81 <dbl>, larea <dbl>, lland <dbl>, y81ldist <dbl>, lintstsq <dbl>,\n",
            "#   nearinc <dbl>, y81nrinc <dbl>, rprice <dbl>, lrprice <dbl>\n"
          ]
        }
      ]
    },
    {
      "cell_type": "code",
      "source": [
        "%%R\n",
        "data_base_vird <- read_csv(base_vi_rd)\n",
        "head(data_base_vird)\n",
        "\n"
      ],
      "metadata": {
        "colab": {
          "base_uri": "https://localhost:8080/"
        },
        "id": "725oUfqtYF0m",
        "outputId": "c8a93c7a-595b-4167-ba64-f03060a8301a"
      },
      "execution_count": 14,
      "outputs": [
        {
          "output_type": "stream",
          "name": "stdout",
          "text": [
            "Rows: 30703 Columns: 1\n",
            "── Column specification ────────────────────────────────────────────────────────\n",
            "Delimiter: \",\"\n",
            "chr (1): ;nquest;anno;lnc;c;lncn;cn;lnjconsal;jconsal;y;y_real;w;af;pf;ar;ar...\n",
            "\n",
            "ℹ Use `spec()` to retrieve the full column specification for this data.\n",
            "ℹ Specify the column types or set `show_col_types = FALSE` to quiet this message.\n",
            "# A tibble: 6 × 1\n",
            "  ;nquest;anno;lnc;c;lncn;cn;lnjconsal;jconsal;y;y_real;w;af;pf;ar;ar1;famtype…¹\n",
            "  <chr>                                                                         \n",
            "1 \"1;25;1993;9,93779468536377;20698,0431448094;9,93779468536377;20698,043144809…\n",
            "2 \"2;25;1995;10,3479804992676;31193,996705005;10,1669826507568;26029,4277141101…\n",
            "3 \"3;34;1993;10,4320907592773;33931,2182701793;10,4320907592773;33931,218270179…\n",
            "4 \"4;34;1995;10,8913831710815;53711,5175053066;10,6778087615967;43382,379523516…\n",
            "5 \"5;34;1998;11,3154392242432;82079,1521843545;11,1844110488892;71999,256302065…\n",
            "6 \"6;34;2000;11,0156164169312;60816,5183574605;10,7577877044678;46994,582367128…\n",
            "# ℹ abbreviated name:\n",
            "#   ¹​`;nquest;anno;lnc;c;lncn;cn;lnjconsal;jconsal;y;y_real;w;af;pf;ar;ar1;famtype;children;children_0_2;children_3_5;children_6_11;children_12_14;children_15_18;ncomp;nperc;sizemun;region;qu_m;qu_f;esse_m;esse_f;elig_m;elig_f;educ_m;educ_f;eta_m;eta_f;valabit;godabit;supab;ancostr;job_m;job_f;lret_m;lret_f;acontrib_m;acontrib_f;n;N;home_owner;pop;rich;filthy_rich;sel;no_f;ed_m1;ed_m2;ed_m3;ed_m4;ed_m5;ed_m6;ed_f1;ed_f2;ed_f3;ed_f4;ed_f5;ed_f6;ed_f7;yob_m;yob_f;coh_m;coh_f;co_m1;co_m2;co_m3;co_m4;co_m5;co_m6;co_m7;co_m8;co_m9;co_m10;co_m11;co_m12;co_m13;co_f1;co_f2;co_f3;co_f4;co_f5;co_f6;co_f7;co_f8;co_f9;co_f10;co_f11;co_f12;co_f13;co_f14;sup2;w_fit;da1;da2;da3;da4;da5;da6;mda1;m1;mda2;m2;mda3;m3;mda4;m4;mda5;m5;mda6;m6;af_fit;af_rich;af_poor;w_rich;w_poor;w_terz;w_poor33;left;left_decoded;decoded_famtype;decoded_sizemun;decoded_region;decoded_qu_m;decoded_qu_f;decoded_elig_m;decoded_elig_f;decoded_educ_m;decoded_educ_f;decoded_godabit;decoded_job_m;decoded_job_f;decoded_lret_m;decoded_lret_f;decoded_left`\n"
          ]
        }
      ]
    },
    {
      "cell_type": "code",
      "source": [
        "%%R\n",
        "data_base_vird_dta <- read_dta(base_vi_rd_dta)\n",
        "head(data_base_vird_dta)"
      ],
      "metadata": {
        "colab": {
          "base_uri": "https://localhost:8080/"
        },
        "id": "2Fkq84g4Yc5d",
        "outputId": "02cccbd4-4903-4f19-cb58-3662abfe4b36"
      },
      "execution_count": 15,
      "outputs": [
        {
          "output_type": "stream",
          "name": "stdout",
          "text": [
            "# A tibble: 6 × 142\n",
            "  nquest  anno   lnc      c  lncn     cn lnjconsal jconsal      y y_real       w\n",
            "   <dbl> <dbl> <dbl>  <dbl> <dbl>  <dbl>     <dbl>   <dbl>  <dbl>  <dbl>   <dbl>\n",
            "1     25  1993  9.94 20698.  9.94 20698.      6.34    566. 38067. 41683. 365522.\n",
            "2     25  1995 10.3  31194. 10.2  26029.      6.83    930. 47498. 47498. 385568.\n",
            "3     34  1993 10.4  33931. 10.4  33931.      6.74    848. 57677. 63157. 406711.\n",
            "4     34  1995 10.9  53712. 10.7  43382.      6.65    775. 62046. 62046. 441571.\n",
            "5     34  1998 11.3  82079. 11.2  71999.      7.43   1680. 79762. 74130. 377276.\n",
            "6     34  2000 11.0  60817. 10.8  46995.      7.52   1843. 79348. 70786. 263078.\n",
            "# ℹ 131 more variables: af <dbl>, pf <dbl>, ar <dbl>, ar1 <dbl>,\n",
            "#   famtype <dbl+lbl>, children <dbl>, children_0_2 <dbl>, children_3_5 <dbl>,\n",
            "#   children_6_11 <dbl>, children_12_14 <dbl>, children_15_18 <dbl>,\n",
            "#   ncomp <dbl>, nperc <dbl>, sizemun <dbl+lbl>, region <dbl+lbl>,\n",
            "#   qu_m <dbl+lbl>, qu_f <dbl+lbl>, esse_m <dbl>, esse_f <dbl>,\n",
            "#   elig_m <dbl+lbl>, elig_f <dbl+lbl>, educ_m <dbl+lbl>, educ_f <dbl+lbl>,\n",
            "#   eta_m <dbl>, eta_f <dbl>, valabit <dbl>, godabit <dbl+lbl>, supab <dbl>, …\n",
            "# ℹ Use `colnames()` to see all variable names\n"
          ]
        }
      ]
    },
    {
      "cell_type": "code",
      "source": [],
      "metadata": {
        "id": "_VztmnICYt2c"
      },
      "execution_count": null,
      "outputs": []
    }
  ]
}