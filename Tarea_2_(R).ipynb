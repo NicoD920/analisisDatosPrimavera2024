{
  "nbformat": 4,
  "nbformat_minor": 0,
  "metadata": {
    "colab": {
      "provenance": [],
      "collapsed_sections": [
        "I7dGN0PAYvOd"
      ],
      "authorship_tag": "ABX9TyNOx7jzDGSLipG8i4SiRlO7",
      "include_colab_link": true
    },
    "kernelspec": {
      "name": "ir",
      "display_name": "R"
    },
    "language_info": {
      "name": "R"
    }
  },
  "cells": [
    {
      "cell_type": "markdown",
      "metadata": {
        "id": "view-in-github",
        "colab_type": "text"
      },
      "source": [
        "<a href=\"https://colab.research.google.com/github/NicoD920/analisisDatosPrimavera2024/blob/main/Tarea_2_(R).ipynb\" target=\"_parent\"><img src=\"https://colab.research.google.com/assets/colab-badge.svg\" alt=\"Open In Colab\"/></a>"
      ]
    },
    {
      "cell_type": "markdown",
      "source": [
        "# Configuración general del entorno\n",
        "\n",
        "Dejamos cargada la data en:\n",
        "* data_base_diff (csv)\n",
        "* data_base_vird (csv)\n",
        "* data_base_vird_dta (dta)"
      ],
      "metadata": {
        "id": "I7dGN0PAYvOd"
      }
    },
    {
      "cell_type": "markdown",
      "source": [
        "## Entorno de trabajo en R"
      ],
      "metadata": {
        "id": "jvXbjaHOY3C7"
      }
    },
    {
      "cell_type": "markdown",
      "source": [
        "## Instalación de paquetes e importación"
      ],
      "metadata": {
        "id": "etxFWHijY6pk"
      }
    },
    {
      "cell_type": "code",
      "source": [
        "if(!require(haven)){install.packages(\"haven\")}\n",
        "\n",
        "library(haven)\n",
        "library(readr)"
      ],
      "metadata": {
        "colab": {
          "base_uri": "https://localhost:8080/"
        },
        "id": "e6fQ7i95Xs5-",
        "outputId": "beeda70d-ca08-4ffb-f75f-f9655f9cfa6d"
      },
      "execution_count": 1,
      "outputs": [
        {
          "output_type": "stream",
          "name": "stderr",
          "text": [
            "Loading required package: haven\n",
            "\n"
          ]
        }
      ]
    },
    {
      "cell_type": "markdown",
      "source": [
        "## Carga de datos"
      ],
      "metadata": {
        "id": "2vcJWXoPY_kk"
      }
    },
    {
      "cell_type": "code",
      "source": [
        "base_diff_in_diff <- \"https://raw.githubusercontent.com/NicoD920/analisisDatosPrimavera2024/refs/heads/main/Tarea%202/Base%20(Diff%20in%20Diff).csv\"\n",
        "base_vi_rd <- \"https://raw.githubusercontent.com/NicoD920/analisisDatosPrimavera2024/refs/heads/main/Tarea%202/Base%20(VI%2C%20RD).csv\"\n",
        "base_vi_rd_dta <- \"https://github.com/NicoD920/analisisDatosPrimavera2024/raw/refs/heads/main/Tarea%202/Base%20(VI,%20RD).dta\"\n"
      ],
      "metadata": {
        "id": "Q8VaIEiZWsyr"
      },
      "execution_count": 2,
      "outputs": []
    },
    {
      "cell_type": "markdown",
      "source": [
        "## Definición de datas\n",
        "* data_base_diff (csv)\n",
        "* data_base_vird (csv)\n",
        "* data_base_vird_dta (dta)"
      ],
      "metadata": {
        "id": "lkF6RkRHZLYr"
      }
    },
    {
      "cell_type": "code",
      "source": [
        "data_base_diff <- read_csv(base_diff_in_diff)\n",
        "head(data_base_diff)"
      ],
      "metadata": {
        "colab": {
          "base_uri": "https://localhost:8080/",
          "height": 443
        },
        "id": "qjSurzC5Xi6H",
        "outputId": "b1f69f54-e865-48f8-f230-ce7e3e01b91c"
      },
      "execution_count": 3,
      "outputs": [
        {
          "output_type": "stream",
          "name": "stderr",
          "text": [
            "\u001b[1m\u001b[22mNew names:\n",
            "\u001b[36m•\u001b[39m `` -> `...1`\n",
            "\u001b[1mRows: \u001b[22m\u001b[34m321\u001b[39m \u001b[1mColumns: \u001b[22m\u001b[34m26\u001b[39m\n",
            "\u001b[36m──\u001b[39m \u001b[1mColumn specification\u001b[22m \u001b[36m────────────────────────────────────────────────────────\u001b[39m\n",
            "\u001b[1mDelimiter:\u001b[22m \",\"\n",
            "\u001b[32mdbl\u001b[39m (26): ...1, year, age, agesq, nbh, cbd, intst, lintst, price, rooms, are...\n",
            "\n",
            "\u001b[36mℹ\u001b[39m Use `spec()` to retrieve the full column specification for this data.\n",
            "\u001b[36mℹ\u001b[39m Specify the column types or set `show_col_types = FALSE` to quiet this message.\n"
          ]
        },
        {
          "output_type": "display_data",
          "data": {
            "text/html": [
              "<table class=\"dataframe\">\n",
              "<caption>A tibble: 6 × 26</caption>\n",
              "<thead>\n",
              "\t<tr><th scope=col>...1</th><th scope=col>year</th><th scope=col>age</th><th scope=col>agesq</th><th scope=col>nbh</th><th scope=col>cbd</th><th scope=col>intst</th><th scope=col>lintst</th><th scope=col>price</th><th scope=col>rooms</th><th scope=col>⋯</th><th scope=col>lprice</th><th scope=col>y81</th><th scope=col>larea</th><th scope=col>lland</th><th scope=col>y81ldist</th><th scope=col>lintstsq</th><th scope=col>nearinc</th><th scope=col>y81nrinc</th><th scope=col>rprice</th><th scope=col>lrprice</th></tr>\n",
              "\t<tr><th scope=col>&lt;dbl&gt;</th><th scope=col>&lt;dbl&gt;</th><th scope=col>&lt;dbl&gt;</th><th scope=col>&lt;dbl&gt;</th><th scope=col>&lt;dbl&gt;</th><th scope=col>&lt;dbl&gt;</th><th scope=col>&lt;dbl&gt;</th><th scope=col>&lt;dbl&gt;</th><th scope=col>&lt;dbl&gt;</th><th scope=col>&lt;dbl&gt;</th><th scope=col>⋯</th><th scope=col>&lt;dbl&gt;</th><th scope=col>&lt;dbl&gt;</th><th scope=col>&lt;dbl&gt;</th><th scope=col>&lt;dbl&gt;</th><th scope=col>&lt;dbl&gt;</th><th scope=col>&lt;dbl&gt;</th><th scope=col>&lt;dbl&gt;</th><th scope=col>&lt;dbl&gt;</th><th scope=col>&lt;dbl&gt;</th><th scope=col>&lt;dbl&gt;</th></tr>\n",
              "</thead>\n",
              "<tbody>\n",
              "\t<tr><td>1</td><td>1978</td><td>48</td><td>2304</td><td>4</td><td>3000</td><td>1000</td><td>6.9078</td><td>60000</td><td>7</td><td>⋯</td><td>11.00210</td><td>0</td><td>7.414573</td><td>8.429017</td><td>0</td><td>47.71770</td><td>1</td><td>0</td><td>60000</td><td>11.00210</td></tr>\n",
              "\t<tr><td>2</td><td>1978</td><td>83</td><td>6889</td><td>4</td><td>4000</td><td>1000</td><td>6.9078</td><td>40000</td><td>6</td><td>⋯</td><td>10.59663</td><td>0</td><td>7.867871</td><td>9.032409</td><td>0</td><td>47.71770</td><td>1</td><td>0</td><td>40000</td><td>10.59663</td></tr>\n",
              "\t<tr><td>3</td><td>1978</td><td>58</td><td>3364</td><td>4</td><td>4000</td><td>1000</td><td>6.9078</td><td>34000</td><td>6</td><td>⋯</td><td>10.43412</td><td>0</td><td>7.042286</td><td>8.517193</td><td>0</td><td>47.71770</td><td>1</td><td>0</td><td>34000</td><td>10.43412</td></tr>\n",
              "\t<tr><td>4</td><td>1978</td><td>11</td><td> 121</td><td>4</td><td>4000</td><td>1000</td><td>6.9078</td><td>63900</td><td>5</td><td>⋯</td><td>11.06507</td><td>0</td><td>7.035269</td><td>9.210340</td><td>0</td><td>47.71770</td><td>1</td><td>0</td><td>63900</td><td>11.06507</td></tr>\n",
              "\t<tr><td>5</td><td>1978</td><td>48</td><td>2304</td><td>4</td><td>4000</td><td>2000</td><td>7.6009</td><td>44000</td><td>5</td><td>⋯</td><td>10.69195</td><td>0</td><td>7.532624</td><td>9.210340</td><td>0</td><td>57.77368</td><td>1</td><td>0</td><td>44000</td><td>10.69195</td></tr>\n",
              "\t<tr><td>6</td><td>1978</td><td>78</td><td>6084</td><td>4</td><td>3000</td><td>2000</td><td>7.6009</td><td>46000</td><td>6</td><td>⋯</td><td>10.73640</td><td>0</td><td>7.484369</td><td>9.159047</td><td>0</td><td>57.77368</td><td>1</td><td>0</td><td>46000</td><td>10.73640</td></tr>\n",
              "</tbody>\n",
              "</table>\n"
            ],
            "text/markdown": "\nA tibble: 6 × 26\n\n| ...1 &lt;dbl&gt; | year &lt;dbl&gt; | age &lt;dbl&gt; | agesq &lt;dbl&gt; | nbh &lt;dbl&gt; | cbd &lt;dbl&gt; | intst &lt;dbl&gt; | lintst &lt;dbl&gt; | price &lt;dbl&gt; | rooms &lt;dbl&gt; | ⋯ ⋯ | lprice &lt;dbl&gt; | y81 &lt;dbl&gt; | larea &lt;dbl&gt; | lland &lt;dbl&gt; | y81ldist &lt;dbl&gt; | lintstsq &lt;dbl&gt; | nearinc &lt;dbl&gt; | y81nrinc &lt;dbl&gt; | rprice &lt;dbl&gt; | lrprice &lt;dbl&gt; |\n|---|---|---|---|---|---|---|---|---|---|---|---|---|---|---|---|---|---|---|---|---|\n| 1 | 1978 | 48 | 2304 | 4 | 3000 | 1000 | 6.9078 | 60000 | 7 | ⋯ | 11.00210 | 0 | 7.414573 | 8.429017 | 0 | 47.71770 | 1 | 0 | 60000 | 11.00210 |\n| 2 | 1978 | 83 | 6889 | 4 | 4000 | 1000 | 6.9078 | 40000 | 6 | ⋯ | 10.59663 | 0 | 7.867871 | 9.032409 | 0 | 47.71770 | 1 | 0 | 40000 | 10.59663 |\n| 3 | 1978 | 58 | 3364 | 4 | 4000 | 1000 | 6.9078 | 34000 | 6 | ⋯ | 10.43412 | 0 | 7.042286 | 8.517193 | 0 | 47.71770 | 1 | 0 | 34000 | 10.43412 |\n| 4 | 1978 | 11 |  121 | 4 | 4000 | 1000 | 6.9078 | 63900 | 5 | ⋯ | 11.06507 | 0 | 7.035269 | 9.210340 | 0 | 47.71770 | 1 | 0 | 63900 | 11.06507 |\n| 5 | 1978 | 48 | 2304 | 4 | 4000 | 2000 | 7.6009 | 44000 | 5 | ⋯ | 10.69195 | 0 | 7.532624 | 9.210340 | 0 | 57.77368 | 1 | 0 | 44000 | 10.69195 |\n| 6 | 1978 | 78 | 6084 | 4 | 3000 | 2000 | 7.6009 | 46000 | 6 | ⋯ | 10.73640 | 0 | 7.484369 | 9.159047 | 0 | 57.77368 | 1 | 0 | 46000 | 10.73640 |\n\n",
            "text/latex": "A tibble: 6 × 26\n\\begin{tabular}{lllllllllllllllllllll}\n ...1 & year & age & agesq & nbh & cbd & intst & lintst & price & rooms & ⋯ & lprice & y81 & larea & lland & y81ldist & lintstsq & nearinc & y81nrinc & rprice & lrprice\\\\\n <dbl> & <dbl> & <dbl> & <dbl> & <dbl> & <dbl> & <dbl> & <dbl> & <dbl> & <dbl> & ⋯ & <dbl> & <dbl> & <dbl> & <dbl> & <dbl> & <dbl> & <dbl> & <dbl> & <dbl> & <dbl>\\\\\n\\hline\n\t 1 & 1978 & 48 & 2304 & 4 & 3000 & 1000 & 6.9078 & 60000 & 7 & ⋯ & 11.00210 & 0 & 7.414573 & 8.429017 & 0 & 47.71770 & 1 & 0 & 60000 & 11.00210\\\\\n\t 2 & 1978 & 83 & 6889 & 4 & 4000 & 1000 & 6.9078 & 40000 & 6 & ⋯ & 10.59663 & 0 & 7.867871 & 9.032409 & 0 & 47.71770 & 1 & 0 & 40000 & 10.59663\\\\\n\t 3 & 1978 & 58 & 3364 & 4 & 4000 & 1000 & 6.9078 & 34000 & 6 & ⋯ & 10.43412 & 0 & 7.042286 & 8.517193 & 0 & 47.71770 & 1 & 0 & 34000 & 10.43412\\\\\n\t 4 & 1978 & 11 &  121 & 4 & 4000 & 1000 & 6.9078 & 63900 & 5 & ⋯ & 11.06507 & 0 & 7.035269 & 9.210340 & 0 & 47.71770 & 1 & 0 & 63900 & 11.06507\\\\\n\t 5 & 1978 & 48 & 2304 & 4 & 4000 & 2000 & 7.6009 & 44000 & 5 & ⋯ & 10.69195 & 0 & 7.532624 & 9.210340 & 0 & 57.77368 & 1 & 0 & 44000 & 10.69195\\\\\n\t 6 & 1978 & 78 & 6084 & 4 & 3000 & 2000 & 7.6009 & 46000 & 6 & ⋯ & 10.73640 & 0 & 7.484369 & 9.159047 & 0 & 57.77368 & 1 & 0 & 46000 & 10.73640\\\\\n\\end{tabular}\n",
            "text/plain": [
              "  ...1 year age agesq nbh cbd  intst lintst price rooms ⋯ lprice   y81 larea   \n",
              "1 1    1978 48  2304  4   3000 1000  6.9078 60000 7     ⋯ 11.00210 0   7.414573\n",
              "2 2    1978 83  6889  4   4000 1000  6.9078 40000 6     ⋯ 10.59663 0   7.867871\n",
              "3 3    1978 58  3364  4   4000 1000  6.9078 34000 6     ⋯ 10.43412 0   7.042286\n",
              "4 4    1978 11   121  4   4000 1000  6.9078 63900 5     ⋯ 11.06507 0   7.035269\n",
              "5 5    1978 48  2304  4   4000 2000  7.6009 44000 5     ⋯ 10.69195 0   7.532624\n",
              "6 6    1978 78  6084  4   3000 2000  7.6009 46000 6     ⋯ 10.73640 0   7.484369\n",
              "  lland    y81ldist lintstsq nearinc y81nrinc rprice lrprice \n",
              "1 8.429017 0        47.71770 1       0        60000  11.00210\n",
              "2 9.032409 0        47.71770 1       0        40000  10.59663\n",
              "3 8.517193 0        47.71770 1       0        34000  10.43412\n",
              "4 9.210340 0        47.71770 1       0        63900  11.06507\n",
              "5 9.210340 0        57.77368 1       0        44000  10.69195\n",
              "6 9.159047 0        57.77368 1       0        46000  10.73640"
            ]
          },
          "metadata": {}
        }
      ]
    },
    {
      "cell_type": "code",
      "source": [
        "data_base_vird <- read_csv(base_vi_rd)\n",
        "head(data_base_vird)\n",
        "\n"
      ],
      "metadata": {
        "colab": {
          "base_uri": "https://localhost:8080/",
          "height": 515
        },
        "id": "725oUfqtYF0m",
        "outputId": "812deede-009a-42eb-9d11-ba43594700c4"
      },
      "execution_count": 4,
      "outputs": [
        {
          "output_type": "stream",
          "name": "stderr",
          "text": [
            "Warning message:\n",
            "“\u001b[1m\u001b[22mOne or more parsing issues, call `problems()` on your data frame for details,\n",
            "e.g.:\n",
            "  dat <- vroom(...)\n",
            "  problems(dat)”\n",
            "\u001b[1mRows: \u001b[22m\u001b[34m30703\u001b[39m \u001b[1mColumns: \u001b[22m\u001b[34m1\u001b[39m\n",
            "\u001b[36m──\u001b[39m \u001b[1mColumn specification\u001b[22m \u001b[36m────────────────────────────────────────────────────────\u001b[39m\n",
            "\u001b[1mDelimiter:\u001b[22m \",\"\n",
            "\u001b[31mchr\u001b[39m (1): ;nquest;anno;lnc;c;lncn;cn;lnjconsal;jconsal;y;y_real;w;af;pf;ar;ar...\n",
            "\n",
            "\u001b[36mℹ\u001b[39m Use `spec()` to retrieve the full column specification for this data.\n",
            "\u001b[36mℹ\u001b[39m Specify the column types or set `show_col_types = FALSE` to quiet this message.\n"
          ]
        },
        {
          "output_type": "display_data",
          "data": {
            "text/html": [
              "<table class=\"dataframe\">\n",
              "<caption>A tibble: 6 × 1</caption>\n",
              "<thead>\n",
              "\t<tr><th scope=col>;nquest;anno;lnc;c;lncn;cn;lnjconsal;jconsal;y;y_real;w;af;pf;ar;ar1;famtype;children;children_0_2;children_3_5;children_6_11;children_12_14;children_15_18;ncomp;nperc;sizemun;region;qu_m;qu_f;esse_m;esse_f;elig_m;elig_f;educ_m;educ_f;eta_m;eta_f;valabit;godabit;supab;ancostr;job_m;job_f;lret_m;lret_f;acontrib_m;acontrib_f;n;N;home_owner;pop;rich;filthy_rich;sel;no_f;ed_m1;ed_m2;ed_m3;ed_m4;ed_m5;ed_m6;ed_f1;ed_f2;ed_f3;ed_f4;ed_f5;ed_f6;ed_f7;yob_m;yob_f;coh_m;coh_f;co_m1;co_m2;co_m3;co_m4;co_m5;co_m6;co_m7;co_m8;co_m9;co_m10;co_m11;co_m12;co_m13;co_f1;co_f2;co_f3;co_f4;co_f5;co_f6;co_f7;co_f8;co_f9;co_f10;co_f11;co_f12;co_f13;co_f14;sup2;w_fit;da1;da2;da3;da4;da5;da6;mda1;m1;mda2;m2;mda3;m3;mda4;m4;mda5;m5;mda6;m6;af_fit;af_rich;af_poor;w_rich;w_poor;w_terz;w_poor33;left;left_decoded;decoded_famtype;decoded_sizemun;decoded_region;decoded_qu_m;decoded_qu_f;decoded_elig_m;decoded_elig_f;decoded_educ_m;decoded_educ_f;decoded_godabit;decoded_job_m;decoded_job_f;decoded_lret_m;decoded_lret_f;decoded_left</th></tr>\n",
              "\t<tr><th scope=col>&lt;chr&gt;</th></tr>\n",
              "</thead>\n",
              "<tbody>\n",
              "\t<tr><td>1;25;1993;9,93779468536377;20698,0431448094;9,93779468536377;20698,0431448094;6,33774614334106;565,520304502988;38066,9580228209;41683,31640625;365522,305405847;43175,7318391438;8482,80456754482;330829,378134248;322346,573566703;1;0;0;0;0;0;0;6;2;2;4;0;0;-17;-20;0;0;4;4;41;39;226208,121801195;1;140;980;2;2;NA;NA;18;15;1;2;1;0;1;1;0;0;NA;NA;NA;NA;NA;NA;NA;NA;NA;NA;NA;NA;NA;1952;1954;10;10;NA;NA;NA;NA;NA;NA;NA;NA;NA;NA;NA;NA;NA;NA;NA;NA;NA;NA;NA;NA;NA;NA;NA;NA;NA;NA;NA;19600;NA;0;0;0;0;0;0;NA;0,0882294774055481;NA;0,157467857003212;NA;0,164193868637085;NA;0,193471804261208;NA;0,193273991346359;NA;0,203363001346588;NA;1;0;1;0;NA;0;1;kept;couple;between 20000 and 40000 residents;South;worker;worker;non eligible;non eligible;vocational studies;vocational studies;owner;publ empl;publ empl;\";\";kept                                                  </td></tr>\n",
              "\t<tr><td>2;25;1995;10,3479804992676;31193,996705005;10,1669826507568;26029,4277141101;6,83477830886841;929,622418361076;47497,7137819233;47497,71484375;385567,708519469;62782,1465885401;23240,5604590269;346026,122389956;335696,984408166;1;0;0;0;0;0;0;5;2;2;4;0;0;-15;-18;0;0;5;5;43;41;258228,449544743;1;130;1986;2;2;NA;NA;20;17;2;2;1;0;1;1;0;0;NA;NA;NA;NA;NA;NA;NA;NA;NA;NA;NA;NA;NA;1952;1954;10;10;NA;NA;NA;NA;NA;NA;NA;NA;NA;NA;NA;NA;NA;NA;NA;NA;NA;NA;NA;NA;NA;NA;NA;NA;NA;NA;NA;16900;NA;0;0;0;0;0;0;NA;0,0882294774055481;NA;0,157467857003212;NA;0,164193868637085;NA;0,193471804261208;NA;0,193273991346359;NA;0,203363001346588;NA;1;0;1;0;NA;0;1;kept;couple;between 20000 and 40000 residents;South;worker;worker;non eligible;non eligible;upper secondary;upper secondary;owner;publ empl;publ empl;\";\";kept                                                        </td></tr>\n",
              "\t<tr><td>3;34;1993;10,4320907592773;33931,2182701793;10,4320907592773;33931,2182701793;6,74321126937866;848,280456754482;57677,2151491787;63156,55078125;406710,840390086;96567,9111713653;0;310142,929218721;288415,355296524;1;1;0;0;0;0;0;4;2;2;2;1;0;7;15;1;1;6;5;50;49;180966,497440956;1;84;946;NA;2;2;NA;25;30;1;6;1;0;0;0;1;0;0;0;0;0;0;1;0;0;0;0;0;1;0;1943;1944;8;8;0;0;0;0;0;0;0;1;0;0;0;0;0;0;0;0;0;0;0;0;1;0;0;0;0;0;0;7056;296058,28125;0;0;0;0;0;0;NA;0,0882294774055481;NA;0,157467857003212;NA;0,164193868637085;NA;0,193471804261208;NA;0,193273991346359;NA;0,203363001346588;59420,609375;1;0;1;0;3;0;1;kept;couple;between 20000 and 40000 residents;North-east;retired;worker;eligible;eligible;college or higher;upper secondary;owner;\";publ empl;publ empl;\";kept                                                                                                   </td></tr>\n",
              "\t<tr><td>4;34;1995;10,8913831710815;53711,5175053066;10,6778087615967;43382,3795235169;6,65245676040649;774,68534863423;62045,7442753101;62045,74609375;441570,648721511;0;30987,4139453692;472558,06266688;464811,209180538;1;1;0;0;0;0;0;4;2;2;2;1;0;9;17;1;1;6;6;52;51;464811,209180538;1;130;1928;NA;2;2;NA;25;32;2;6;1;0;1;1;1;0;0;0;0;0;0;1;0;0;0;0;0;0;1;1943;1944;8;8;0;0;0;0;0;0;0;1;0;0;0;0;0;0;0;0;0;0;0;0;1;0;0;0;0;0;0;16900;434059,4375;0;0;0;0;0;0;NA;0,0882294774055481;NA;0,157467857003212;NA;0,164193868637085;NA;0,193471804261208;NA;0,193273991346359;NA;0,203363001346588;69620,25;1;0;1;0;3;0;1;kept;couple;between 20000 and 40000 residents;North-east;retired;worker;eligible;eligible;college or higher;college or higher;owner;\";publ empl;publ empl;\";kept                                                                                                     </td></tr>\n",
              "\t<tr><td>5;34;1998;11,3154392242432;82079,1521843545;11,1844110488892;71999,2563020653;7,42653894424438;1679,98264704819;79761,6034953803;74130,4296875;377276,103022822;9599,90084027538;18239,8115965232;385916,01377907;383996,033611015;1;1;0;0;0;0;0;4;2;2;2;0;0;-10;20;0;1;6;6;55;54;383996,033611015;1;135;1925;3;2;NA;NA;25;35;3;6;1;0;1;1;1;0;0;0;0;0;0;1;0;0;0;0;0;0;1;1943;1944;8;8;0;0;0;0;0;0;0;1;0;0;0;0;0;0;0;0;0;0;0;0;1;0;0;0;0;0;0;18225;448483,8125;0;0;0;0;0;0;0,0882294774055481;0,0882294774055481;0,157467857003212;0,157467857003212;0,164193868637085;0,164193868637085;0,193471804261208;0,193471804261208;0,193273991346359;0,193273991346359;0,203363001346588;0,203363001346588;70669;1;0;1;0;3;0;1;kept;couple;between 20000 and 40000 residents;North-east;worker;worker;non eligible;eligible;college or higher;college or higher;owner;SE;publ empl;\";\";kept</td></tr>\n",
              "\t<tr><td>6;34;2000;11,0156164169312;60816,5183574605;10,7577877044678;46994,5823671286;7,51910924911499;1842,92479871092;79347,9215192096;70786,28125;263077,515015984;46533,8511674508;0;216543,663848534;193507,103864647;1;1;0;0;0;0;0;4;3;2;2;0;0;17;15;1;1;6;6;57;56;193507,103864647;1;100;1925;2;2;NA;NA;37;30;4;6;1;0;0;0;0;0;NA;NA;NA;NA;NA;NA;NA;NA;NA;NA;NA;NA;NA;1943;1944;8;8;NA;NA;NA;NA;NA;NA;NA;NA;NA;NA;NA;NA;NA;NA;NA;NA;NA;NA;NA;NA;NA;NA;NA;NA;NA;NA;NA;10000;NA;0;0;0;0;0;0;NA;0,0882294774055481;NA;0,157467857003212;NA;0,164193868637085;NA;0,193471804261208;NA;0,193273991346359;NA;0,203363001346588;NA;1;0;1;0;NA;0;1;kept;couple;between 20000 and 40000 residents;North-east;worker;worker;eligible;eligible;college or higher;college or higher;owner;publ empl;publ empl;\";\";kept                                                                            </td></tr>\n",
              "</tbody>\n",
              "</table>\n"
            ],
            "text/markdown": "\nA tibble: 6 × 1\n\n| ;nquest;anno;lnc;c;lncn;cn;lnjconsal;jconsal;y;y_real;w;af;pf;ar;ar1;famtype;children;children_0_2;children_3_5;children_6_11;children_12_14;children_15_18;ncomp;nperc;sizemun;region;qu_m;qu_f;esse_m;esse_f;elig_m;elig_f;educ_m;educ_f;eta_m;eta_f;valabit;godabit;supab;ancostr;job_m;job_f;lret_m;lret_f;acontrib_m;acontrib_f;n;N;home_owner;pop;rich;filthy_rich;sel;no_f;ed_m1;ed_m2;ed_m3;ed_m4;ed_m5;ed_m6;ed_f1;ed_f2;ed_f3;ed_f4;ed_f5;ed_f6;ed_f7;yob_m;yob_f;coh_m;coh_f;co_m1;co_m2;co_m3;co_m4;co_m5;co_m6;co_m7;co_m8;co_m9;co_m10;co_m11;co_m12;co_m13;co_f1;co_f2;co_f3;co_f4;co_f5;co_f6;co_f7;co_f8;co_f9;co_f10;co_f11;co_f12;co_f13;co_f14;sup2;w_fit;da1;da2;da3;da4;da5;da6;mda1;m1;mda2;m2;mda3;m3;mda4;m4;mda5;m5;mda6;m6;af_fit;af_rich;af_poor;w_rich;w_poor;w_terz;w_poor33;left;left_decoded;decoded_famtype;decoded_sizemun;decoded_region;decoded_qu_m;decoded_qu_f;decoded_elig_m;decoded_elig_f;decoded_educ_m;decoded_educ_f;decoded_godabit;decoded_job_m;decoded_job_f;decoded_lret_m;decoded_lret_f;decoded_left &lt;chr&gt; |\n|---|\n| 1;25;1993;9,93779468536377;20698,0431448094;9,93779468536377;20698,0431448094;6,33774614334106;565,520304502988;38066,9580228209;41683,31640625;365522,305405847;43175,7318391438;8482,80456754482;330829,378134248;322346,573566703;1;0;0;0;0;0;0;6;2;2;4;0;0;-17;-20;0;0;4;4;41;39;226208,121801195;1;140;980;2;2;NA;NA;18;15;1;2;1;0;1;1;0;0;NA;NA;NA;NA;NA;NA;NA;NA;NA;NA;NA;NA;NA;1952;1954;10;10;NA;NA;NA;NA;NA;NA;NA;NA;NA;NA;NA;NA;NA;NA;NA;NA;NA;NA;NA;NA;NA;NA;NA;NA;NA;NA;NA;19600;NA;0;0;0;0;0;0;NA;0,0882294774055481;NA;0,157467857003212;NA;0,164193868637085;NA;0,193471804261208;NA;0,193273991346359;NA;0,203363001346588;NA;1;0;1;0;NA;0;1;kept;couple;between 20000 and 40000 residents;South;worker;worker;non eligible;non eligible;vocational studies;vocational studies;owner;publ empl;publ empl;\";\";kept                                                   |\n| 2;25;1995;10,3479804992676;31193,996705005;10,1669826507568;26029,4277141101;6,83477830886841;929,622418361076;47497,7137819233;47497,71484375;385567,708519469;62782,1465885401;23240,5604590269;346026,122389956;335696,984408166;1;0;0;0;0;0;0;5;2;2;4;0;0;-15;-18;0;0;5;5;43;41;258228,449544743;1;130;1986;2;2;NA;NA;20;17;2;2;1;0;1;1;0;0;NA;NA;NA;NA;NA;NA;NA;NA;NA;NA;NA;NA;NA;1952;1954;10;10;NA;NA;NA;NA;NA;NA;NA;NA;NA;NA;NA;NA;NA;NA;NA;NA;NA;NA;NA;NA;NA;NA;NA;NA;NA;NA;NA;16900;NA;0;0;0;0;0;0;NA;0,0882294774055481;NA;0,157467857003212;NA;0,164193868637085;NA;0,193471804261208;NA;0,193273991346359;NA;0,203363001346588;NA;1;0;1;0;NA;0;1;kept;couple;between 20000 and 40000 residents;South;worker;worker;non eligible;non eligible;upper secondary;upper secondary;owner;publ empl;publ empl;\";\";kept                                                         |\n| 3;34;1993;10,4320907592773;33931,2182701793;10,4320907592773;33931,2182701793;6,74321126937866;848,280456754482;57677,2151491787;63156,55078125;406710,840390086;96567,9111713653;0;310142,929218721;288415,355296524;1;1;0;0;0;0;0;4;2;2;2;1;0;7;15;1;1;6;5;50;49;180966,497440956;1;84;946;NA;2;2;NA;25;30;1;6;1;0;0;0;1;0;0;0;0;0;0;1;0;0;0;0;0;1;0;1943;1944;8;8;0;0;0;0;0;0;0;1;0;0;0;0;0;0;0;0;0;0;0;0;1;0;0;0;0;0;0;7056;296058,28125;0;0;0;0;0;0;NA;0,0882294774055481;NA;0,157467857003212;NA;0,164193868637085;NA;0,193471804261208;NA;0,193273991346359;NA;0,203363001346588;59420,609375;1;0;1;0;3;0;1;kept;couple;between 20000 and 40000 residents;North-east;retired;worker;eligible;eligible;college or higher;upper secondary;owner;\";publ empl;publ empl;\";kept                                                                                                    |\n| 4;34;1995;10,8913831710815;53711,5175053066;10,6778087615967;43382,3795235169;6,65245676040649;774,68534863423;62045,7442753101;62045,74609375;441570,648721511;0;30987,4139453692;472558,06266688;464811,209180538;1;1;0;0;0;0;0;4;2;2;2;1;0;9;17;1;1;6;6;52;51;464811,209180538;1;130;1928;NA;2;2;NA;25;32;2;6;1;0;1;1;1;0;0;0;0;0;0;1;0;0;0;0;0;0;1;1943;1944;8;8;0;0;0;0;0;0;0;1;0;0;0;0;0;0;0;0;0;0;0;0;1;0;0;0;0;0;0;16900;434059,4375;0;0;0;0;0;0;NA;0,0882294774055481;NA;0,157467857003212;NA;0,164193868637085;NA;0,193471804261208;NA;0,193273991346359;NA;0,203363001346588;69620,25;1;0;1;0;3;0;1;kept;couple;between 20000 and 40000 residents;North-east;retired;worker;eligible;eligible;college or higher;college or higher;owner;\";publ empl;publ empl;\";kept                                                                                                      |\n| 5;34;1998;11,3154392242432;82079,1521843545;11,1844110488892;71999,2563020653;7,42653894424438;1679,98264704819;79761,6034953803;74130,4296875;377276,103022822;9599,90084027538;18239,8115965232;385916,01377907;383996,033611015;1;1;0;0;0;0;0;4;2;2;2;0;0;-10;20;0;1;6;6;55;54;383996,033611015;1;135;1925;3;2;NA;NA;25;35;3;6;1;0;1;1;1;0;0;0;0;0;0;1;0;0;0;0;0;0;1;1943;1944;8;8;0;0;0;0;0;0;0;1;0;0;0;0;0;0;0;0;0;0;0;0;1;0;0;0;0;0;0;18225;448483,8125;0;0;0;0;0;0;0,0882294774055481;0,0882294774055481;0,157467857003212;0,157467857003212;0,164193868637085;0,164193868637085;0,193471804261208;0,193471804261208;0,193273991346359;0,193273991346359;0,203363001346588;0,203363001346588;70669;1;0;1;0;3;0;1;kept;couple;between 20000 and 40000 residents;North-east;worker;worker;non eligible;eligible;college or higher;college or higher;owner;SE;publ empl;\";\";kept |\n| 6;34;2000;11,0156164169312;60816,5183574605;10,7577877044678;46994,5823671286;7,51910924911499;1842,92479871092;79347,9215192096;70786,28125;263077,515015984;46533,8511674508;0;216543,663848534;193507,103864647;1;1;0;0;0;0;0;4;3;2;2;0;0;17;15;1;1;6;6;57;56;193507,103864647;1;100;1925;2;2;NA;NA;37;30;4;6;1;0;0;0;0;0;NA;NA;NA;NA;NA;NA;NA;NA;NA;NA;NA;NA;NA;1943;1944;8;8;NA;NA;NA;NA;NA;NA;NA;NA;NA;NA;NA;NA;NA;NA;NA;NA;NA;NA;NA;NA;NA;NA;NA;NA;NA;NA;NA;10000;NA;0;0;0;0;0;0;NA;0,0882294774055481;NA;0,157467857003212;NA;0,164193868637085;NA;0,193471804261208;NA;0,193273991346359;NA;0,203363001346588;NA;1;0;1;0;NA;0;1;kept;couple;between 20000 and 40000 residents;North-east;worker;worker;eligible;eligible;college or higher;college or higher;owner;publ empl;publ empl;\";\";kept                                                                             |\n\n",
            "text/latex": "A tibble: 6 × 1\n\\begin{tabular}{l}\n ;nquest;anno;lnc;c;lncn;cn;lnjconsal;jconsal;y;y\\_real;w;af;pf;ar;ar1;famtype;children;children\\_0\\_2;children\\_3\\_5;children\\_6\\_11;children\\_12\\_14;children\\_15\\_18;ncomp;nperc;sizemun;region;qu\\_m;qu\\_f;esse\\_m;esse\\_f;elig\\_m;elig\\_f;educ\\_m;educ\\_f;eta\\_m;eta\\_f;valabit;godabit;supab;ancostr;job\\_m;job\\_f;lret\\_m;lret\\_f;acontrib\\_m;acontrib\\_f;n;N;home\\_owner;pop;rich;filthy\\_rich;sel;no\\_f;ed\\_m1;ed\\_m2;ed\\_m3;ed\\_m4;ed\\_m5;ed\\_m6;ed\\_f1;ed\\_f2;ed\\_f3;ed\\_f4;ed\\_f5;ed\\_f6;ed\\_f7;yob\\_m;yob\\_f;coh\\_m;coh\\_f;co\\_m1;co\\_m2;co\\_m3;co\\_m4;co\\_m5;co\\_m6;co\\_m7;co\\_m8;co\\_m9;co\\_m10;co\\_m11;co\\_m12;co\\_m13;co\\_f1;co\\_f2;co\\_f3;co\\_f4;co\\_f5;co\\_f6;co\\_f7;co\\_f8;co\\_f9;co\\_f10;co\\_f11;co\\_f12;co\\_f13;co\\_f14;sup2;w\\_fit;da1;da2;da3;da4;da5;da6;mda1;m1;mda2;m2;mda3;m3;mda4;m4;mda5;m5;mda6;m6;af\\_fit;af\\_rich;af\\_poor;w\\_rich;w\\_poor;w\\_terz;w\\_poor33;left;left\\_decoded;decoded\\_famtype;decoded\\_sizemun;decoded\\_region;decoded\\_qu\\_m;decoded\\_qu\\_f;decoded\\_elig\\_m;decoded\\_elig\\_f;decoded\\_educ\\_m;decoded\\_educ\\_f;decoded\\_godabit;decoded\\_job\\_m;decoded\\_job\\_f;decoded\\_lret\\_m;decoded\\_lret\\_f;decoded\\_left\\\\\n <chr>\\\\\n\\hline\n\t 1;25;1993;9,93779468536377;20698,0431448094;9,93779468536377;20698,0431448094;6,33774614334106;565,520304502988;38066,9580228209;41683,31640625;365522,305405847;43175,7318391438;8482,80456754482;330829,378134248;322346,573566703;1;0;0;0;0;0;0;6;2;2;4;0;0;-17;-20;0;0;4;4;41;39;226208,121801195;1;140;980;2;2;NA;NA;18;15;1;2;1;0;1;1;0;0;NA;NA;NA;NA;NA;NA;NA;NA;NA;NA;NA;NA;NA;1952;1954;10;10;NA;NA;NA;NA;NA;NA;NA;NA;NA;NA;NA;NA;NA;NA;NA;NA;NA;NA;NA;NA;NA;NA;NA;NA;NA;NA;NA;19600;NA;0;0;0;0;0;0;NA;0,0882294774055481;NA;0,157467857003212;NA;0,164193868637085;NA;0,193471804261208;NA;0,193273991346359;NA;0,203363001346588;NA;1;0;1;0;NA;0;1;kept;couple;between 20000 and 40000 residents;South;worker;worker;non eligible;non eligible;vocational studies;vocational studies;owner;publ empl;publ empl;\";\";kept                                                  \\\\\n\t 2;25;1995;10,3479804992676;31193,996705005;10,1669826507568;26029,4277141101;6,83477830886841;929,622418361076;47497,7137819233;47497,71484375;385567,708519469;62782,1465885401;23240,5604590269;346026,122389956;335696,984408166;1;0;0;0;0;0;0;5;2;2;4;0;0;-15;-18;0;0;5;5;43;41;258228,449544743;1;130;1986;2;2;NA;NA;20;17;2;2;1;0;1;1;0;0;NA;NA;NA;NA;NA;NA;NA;NA;NA;NA;NA;NA;NA;1952;1954;10;10;NA;NA;NA;NA;NA;NA;NA;NA;NA;NA;NA;NA;NA;NA;NA;NA;NA;NA;NA;NA;NA;NA;NA;NA;NA;NA;NA;16900;NA;0;0;0;0;0;0;NA;0,0882294774055481;NA;0,157467857003212;NA;0,164193868637085;NA;0,193471804261208;NA;0,193273991346359;NA;0,203363001346588;NA;1;0;1;0;NA;0;1;kept;couple;between 20000 and 40000 residents;South;worker;worker;non eligible;non eligible;upper secondary;upper secondary;owner;publ empl;publ empl;\";\";kept                                                        \\\\\n\t 3;34;1993;10,4320907592773;33931,2182701793;10,4320907592773;33931,2182701793;6,74321126937866;848,280456754482;57677,2151491787;63156,55078125;406710,840390086;96567,9111713653;0;310142,929218721;288415,355296524;1;1;0;0;0;0;0;4;2;2;2;1;0;7;15;1;1;6;5;50;49;180966,497440956;1;84;946;NA;2;2;NA;25;30;1;6;1;0;0;0;1;0;0;0;0;0;0;1;0;0;0;0;0;1;0;1943;1944;8;8;0;0;0;0;0;0;0;1;0;0;0;0;0;0;0;0;0;0;0;0;1;0;0;0;0;0;0;7056;296058,28125;0;0;0;0;0;0;NA;0,0882294774055481;NA;0,157467857003212;NA;0,164193868637085;NA;0,193471804261208;NA;0,193273991346359;NA;0,203363001346588;59420,609375;1;0;1;0;3;0;1;kept;couple;between 20000 and 40000 residents;North-east;retired;worker;eligible;eligible;college or higher;upper secondary;owner;\";publ empl;publ empl;\";kept                                                                                                   \\\\\n\t 4;34;1995;10,8913831710815;53711,5175053066;10,6778087615967;43382,3795235169;6,65245676040649;774,68534863423;62045,7442753101;62045,74609375;441570,648721511;0;30987,4139453692;472558,06266688;464811,209180538;1;1;0;0;0;0;0;4;2;2;2;1;0;9;17;1;1;6;6;52;51;464811,209180538;1;130;1928;NA;2;2;NA;25;32;2;6;1;0;1;1;1;0;0;0;0;0;0;1;0;0;0;0;0;0;1;1943;1944;8;8;0;0;0;0;0;0;0;1;0;0;0;0;0;0;0;0;0;0;0;0;1;0;0;0;0;0;0;16900;434059,4375;0;0;0;0;0;0;NA;0,0882294774055481;NA;0,157467857003212;NA;0,164193868637085;NA;0,193471804261208;NA;0,193273991346359;NA;0,203363001346588;69620,25;1;0;1;0;3;0;1;kept;couple;between 20000 and 40000 residents;North-east;retired;worker;eligible;eligible;college or higher;college or higher;owner;\";publ empl;publ empl;\";kept                                                                                                     \\\\\n\t 5;34;1998;11,3154392242432;82079,1521843545;11,1844110488892;71999,2563020653;7,42653894424438;1679,98264704819;79761,6034953803;74130,4296875;377276,103022822;9599,90084027538;18239,8115965232;385916,01377907;383996,033611015;1;1;0;0;0;0;0;4;2;2;2;0;0;-10;20;0;1;6;6;55;54;383996,033611015;1;135;1925;3;2;NA;NA;25;35;3;6;1;0;1;1;1;0;0;0;0;0;0;1;0;0;0;0;0;0;1;1943;1944;8;8;0;0;0;0;0;0;0;1;0;0;0;0;0;0;0;0;0;0;0;0;1;0;0;0;0;0;0;18225;448483,8125;0;0;0;0;0;0;0,0882294774055481;0,0882294774055481;0,157467857003212;0,157467857003212;0,164193868637085;0,164193868637085;0,193471804261208;0,193471804261208;0,193273991346359;0,193273991346359;0,203363001346588;0,203363001346588;70669;1;0;1;0;3;0;1;kept;couple;between 20000 and 40000 residents;North-east;worker;worker;non eligible;eligible;college or higher;college or higher;owner;SE;publ empl;\";\";kept\\\\\n\t 6;34;2000;11,0156164169312;60816,5183574605;10,7577877044678;46994,5823671286;7,51910924911499;1842,92479871092;79347,9215192096;70786,28125;263077,515015984;46533,8511674508;0;216543,663848534;193507,103864647;1;1;0;0;0;0;0;4;3;2;2;0;0;17;15;1;1;6;6;57;56;193507,103864647;1;100;1925;2;2;NA;NA;37;30;4;6;1;0;0;0;0;0;NA;NA;NA;NA;NA;NA;NA;NA;NA;NA;NA;NA;NA;1943;1944;8;8;NA;NA;NA;NA;NA;NA;NA;NA;NA;NA;NA;NA;NA;NA;NA;NA;NA;NA;NA;NA;NA;NA;NA;NA;NA;NA;NA;10000;NA;0;0;0;0;0;0;NA;0,0882294774055481;NA;0,157467857003212;NA;0,164193868637085;NA;0,193471804261208;NA;0,193273991346359;NA;0,203363001346588;NA;1;0;1;0;NA;0;1;kept;couple;between 20000 and 40000 residents;North-east;worker;worker;eligible;eligible;college or higher;college or higher;owner;publ empl;publ empl;\";\";kept                                                                            \\\\\n\\end{tabular}\n",
            "text/plain": [
              "  ;nquest;anno;lnc;c;lncn;cn;lnjconsal;jconsal;y;y_real;w;af;pf;ar;ar1;famtype;children;children_0_2;children_3_5;children_6_11;children_12_14;children_15_18;ncomp;nperc;sizemun;region;qu_m;qu_f;esse_m;esse_f;elig_m;elig_f;educ_m;educ_f;eta_m;eta_f;valabit;godabit;supab;ancostr;job_m;job_f;lret_m;lret_f;acontrib_m;acontrib_f;n;N;home_owner;pop;rich;filthy_rich;sel;no_f;ed_m1;ed_m2;ed_m3;ed_m4;ed_m5;ed_m6;ed_f1;ed_f2;ed_f3;ed_f4;ed_f5;ed_f6;ed_f7;yob_m;yob_f;coh_m;coh_f;co_m1;co_m2;co_m3;co_m4;co_m5;co_m6;co_m7;co_m8;co_m9;co_m10;co_m11;co_m12;co_m13;co_f1;co_f2;co_f3;co_f4;co_f5;co_f6;co_f7;co_f8;co_f9;co_f10;co_f11;co_f12;co_f13;co_f14;sup2;w_fit;da1;da2;da3;da4;da5;da6;mda1;m1;mda2;m2;mda3;m3;mda4;m4;mda5;m5;mda6;m6;af_fit;af_rich;af_poor;w_rich;w_poor;w_terz;w_poor33;left;left_decoded;decoded_famtype;decoded_sizemun;decoded_region;decoded_qu_m;decoded_qu_f;decoded_elig_m;decoded_elig_f;decoded_educ_m;decoded_educ_f;decoded_godabit;decoded_job_m;decoded_job_f;decoded_lret_m;decoded_lret_f;decoded_left\n",
              "1 1;25;1993;9,93779468536377;20698,0431448094;9,93779468536377;20698,0431448094;6,33774614334106;565,520304502988;38066,9580228209;41683,31640625;365522,305405847;43175,7318391438;8482,80456754482;330829,378134248;322346,573566703;1;0;0;0;0;0;0;6;2;2;4;0;0;-17;-20;0;0;4;4;41;39;226208,121801195;1;140;980;2;2;NA;NA;18;15;1;2;1;0;1;1;0;0;NA;NA;NA;NA;NA;NA;NA;NA;NA;NA;NA;NA;NA;1952;1954;10;10;NA;NA;NA;NA;NA;NA;NA;NA;NA;NA;NA;NA;NA;NA;NA;NA;NA;NA;NA;NA;NA;NA;NA;NA;NA;NA;NA;19600;NA;0;0;0;0;0;0;NA;0,0882294774055481;NA;0,157467857003212;NA;0,164193868637085;NA;0,193471804261208;NA;0,193273991346359;NA;0,203363001346588;NA;1;0;1;0;NA;0;1;kept;couple;between 20000 and 40000 residents;South;worker;worker;non eligible;non eligible;vocational studies;vocational studies;owner;publ empl;publ empl;\";\";kept                                                                                                                                                                                                                      \n",
              "2 2;25;1995;10,3479804992676;31193,996705005;10,1669826507568;26029,4277141101;6,83477830886841;929,622418361076;47497,7137819233;47497,71484375;385567,708519469;62782,1465885401;23240,5604590269;346026,122389956;335696,984408166;1;0;0;0;0;0;0;5;2;2;4;0;0;-15;-18;0;0;5;5;43;41;258228,449544743;1;130;1986;2;2;NA;NA;20;17;2;2;1;0;1;1;0;0;NA;NA;NA;NA;NA;NA;NA;NA;NA;NA;NA;NA;NA;1952;1954;10;10;NA;NA;NA;NA;NA;NA;NA;NA;NA;NA;NA;NA;NA;NA;NA;NA;NA;NA;NA;NA;NA;NA;NA;NA;NA;NA;NA;16900;NA;0;0;0;0;0;0;NA;0,0882294774055481;NA;0,157467857003212;NA;0,164193868637085;NA;0,193471804261208;NA;0,193273991346359;NA;0,203363001346588;NA;1;0;1;0;NA;0;1;kept;couple;between 20000 and 40000 residents;South;worker;worker;non eligible;non eligible;upper secondary;upper secondary;owner;publ empl;publ empl;\";\";kept                                                                                                                                                                                                                            \n",
              "3 3;34;1993;10,4320907592773;33931,2182701793;10,4320907592773;33931,2182701793;6,74321126937866;848,280456754482;57677,2151491787;63156,55078125;406710,840390086;96567,9111713653;0;310142,929218721;288415,355296524;1;1;0;0;0;0;0;4;2;2;2;1;0;7;15;1;1;6;5;50;49;180966,497440956;1;84;946;NA;2;2;NA;25;30;1;6;1;0;0;0;1;0;0;0;0;0;0;1;0;0;0;0;0;1;0;1943;1944;8;8;0;0;0;0;0;0;0;1;0;0;0;0;0;0;0;0;0;0;0;0;1;0;0;0;0;0;0;7056;296058,28125;0;0;0;0;0;0;NA;0,0882294774055481;NA;0,157467857003212;NA;0,164193868637085;NA;0,193471804261208;NA;0,193273991346359;NA;0,203363001346588;59420,609375;1;0;1;0;3;0;1;kept;couple;between 20000 and 40000 residents;North-east;retired;worker;eligible;eligible;college or higher;upper secondary;owner;\";publ empl;publ empl;\";kept                                                                                                                                                                                                                                                                       \n",
              "4 4;34;1995;10,8913831710815;53711,5175053066;10,6778087615967;43382,3795235169;6,65245676040649;774,68534863423;62045,7442753101;62045,74609375;441570,648721511;0;30987,4139453692;472558,06266688;464811,209180538;1;1;0;0;0;0;0;4;2;2;2;1;0;9;17;1;1;6;6;52;51;464811,209180538;1;130;1928;NA;2;2;NA;25;32;2;6;1;0;1;1;1;0;0;0;0;0;0;1;0;0;0;0;0;0;1;1943;1944;8;8;0;0;0;0;0;0;0;1;0;0;0;0;0;0;0;0;0;0;0;0;1;0;0;0;0;0;0;16900;434059,4375;0;0;0;0;0;0;NA;0,0882294774055481;NA;0,157467857003212;NA;0,164193868637085;NA;0,193471804261208;NA;0,193273991346359;NA;0,203363001346588;69620,25;1;0;1;0;3;0;1;kept;couple;between 20000 and 40000 residents;North-east;retired;worker;eligible;eligible;college or higher;college or higher;owner;\";publ empl;publ empl;\";kept                                                                                                                                                                                                                                                                         \n",
              "5 5;34;1998;11,3154392242432;82079,1521843545;11,1844110488892;71999,2563020653;7,42653894424438;1679,98264704819;79761,6034953803;74130,4296875;377276,103022822;9599,90084027538;18239,8115965232;385916,01377907;383996,033611015;1;1;0;0;0;0;0;4;2;2;2;0;0;-10;20;0;1;6;6;55;54;383996,033611015;1;135;1925;3;2;NA;NA;25;35;3;6;1;0;1;1;1;0;0;0;0;0;0;1;0;0;0;0;0;0;1;1943;1944;8;8;0;0;0;0;0;0;0;1;0;0;0;0;0;0;0;0;0;0;0;0;1;0;0;0;0;0;0;18225;448483,8125;0;0;0;0;0;0;0,0882294774055481;0,0882294774055481;0,157467857003212;0,157467857003212;0,164193868637085;0,164193868637085;0,193471804261208;0,193471804261208;0,193273991346359;0,193273991346359;0,203363001346588;0,203363001346588;70669;1;0;1;0;3;0;1;kept;couple;between 20000 and 40000 residents;North-east;worker;worker;non eligible;eligible;college or higher;college or higher;owner;SE;publ empl;\";\";kept                                                                                                                                                                    \n",
              "6 6;34;2000;11,0156164169312;60816,5183574605;10,7577877044678;46994,5823671286;7,51910924911499;1842,92479871092;79347,9215192096;70786,28125;263077,515015984;46533,8511674508;0;216543,663848534;193507,103864647;1;1;0;0;0;0;0;4;3;2;2;0;0;17;15;1;1;6;6;57;56;193507,103864647;1;100;1925;2;2;NA;NA;37;30;4;6;1;0;0;0;0;0;NA;NA;NA;NA;NA;NA;NA;NA;NA;NA;NA;NA;NA;1943;1944;8;8;NA;NA;NA;NA;NA;NA;NA;NA;NA;NA;NA;NA;NA;NA;NA;NA;NA;NA;NA;NA;NA;NA;NA;NA;NA;NA;NA;10000;NA;0;0;0;0;0;0;NA;0,0882294774055481;NA;0,157467857003212;NA;0,164193868637085;NA;0,193471804261208;NA;0,193273991346359;NA;0,203363001346588;NA;1;0;1;0;NA;0;1;kept;couple;between 20000 and 40000 residents;North-east;worker;worker;eligible;eligible;college or higher;college or higher;owner;publ empl;publ empl;\";\";kept                                                                                                                                                                                                                                                "
            ]
          },
          "metadata": {}
        }
      ]
    },
    {
      "cell_type": "code",
      "source": [
        "data_base_vird_dta <- read_dta(base_vi_rd_dta)\n",
        "head(data_base_vird_dta)"
      ],
      "metadata": {
        "colab": {
          "base_uri": "https://localhost:8080/",
          "height": 286
        },
        "id": "2Fkq84g4Yc5d",
        "outputId": "36d71ecc-74bb-460e-def0-a13e0d6e0ada"
      },
      "execution_count": 5,
      "outputs": [
        {
          "output_type": "display_data",
          "data": {
            "text/html": [
              "<table class=\"dataframe\">\n",
              "<caption>A tibble: 6 × 142</caption>\n",
              "<thead>\n",
              "\t<tr><th scope=col>nquest</th><th scope=col>anno</th><th scope=col>lnc</th><th scope=col>c</th><th scope=col>lncn</th><th scope=col>cn</th><th scope=col>lnjconsal</th><th scope=col>jconsal</th><th scope=col>y</th><th scope=col>y_real</th><th scope=col>⋯</th><th scope=col>decoded_elig_m</th><th scope=col>decoded_elig_f</th><th scope=col>decoded_educ_m</th><th scope=col>decoded_educ_f</th><th scope=col>decoded_godabit</th><th scope=col>decoded_job_m</th><th scope=col>decoded_job_f</th><th scope=col>decoded_lret_m</th><th scope=col>decoded_lret_f</th><th scope=col>decoded_left</th></tr>\n",
              "\t<tr><th scope=col>&lt;dbl&gt;</th><th scope=col>&lt;dbl&gt;</th><th scope=col>&lt;dbl&gt;</th><th scope=col>&lt;dbl&gt;</th><th scope=col>&lt;dbl&gt;</th><th scope=col>&lt;dbl&gt;</th><th scope=col>&lt;dbl&gt;</th><th scope=col>&lt;dbl&gt;</th><th scope=col>&lt;dbl&gt;</th><th scope=col>&lt;dbl&gt;</th><th scope=col>⋯</th><th scope=col>&lt;chr&gt;</th><th scope=col>&lt;chr&gt;</th><th scope=col>&lt;chr&gt;</th><th scope=col>&lt;chr&gt;</th><th scope=col>&lt;chr&gt;</th><th scope=col>&lt;chr&gt;</th><th scope=col>&lt;chr&gt;</th><th scope=col>&lt;chr&gt;</th><th scope=col>&lt;chr&gt;</th><th scope=col>&lt;chr&gt;</th></tr>\n",
              "</thead>\n",
              "<tbody>\n",
              "\t<tr><td>25</td><td>1993</td><td> 9.937795</td><td>20698.04</td><td> 9.937795</td><td>20698.04</td><td>6.337746</td><td> 565.5203</td><td>38066.96</td><td>41683.32</td><td>⋯</td><td>non eligible</td><td>non eligible</td><td>vocational studies</td><td>vocational studies</td><td>owner</td><td>publ empl</td><td>publ empl</td><td>         </td><td></td><td>kept</td></tr>\n",
              "\t<tr><td>25</td><td>1995</td><td>10.347980</td><td>31194.00</td><td>10.166983</td><td>26029.43</td><td>6.834778</td><td> 929.6224</td><td>47497.71</td><td>47497.71</td><td>⋯</td><td>non eligible</td><td>non eligible</td><td>upper secondary   </td><td>upper secondary   </td><td>owner</td><td>publ empl</td><td>publ empl</td><td>         </td><td></td><td>kept</td></tr>\n",
              "\t<tr><td>34</td><td>1993</td><td>10.432091</td><td>33931.22</td><td>10.432091</td><td>33931.22</td><td>6.743211</td><td> 848.2805</td><td>57677.22</td><td>63156.55</td><td>⋯</td><td>eligible    </td><td>eligible    </td><td>college or higher </td><td>upper secondary   </td><td>owner</td><td>         </td><td>publ empl</td><td>publ empl</td><td></td><td>kept</td></tr>\n",
              "\t<tr><td>34</td><td>1995</td><td>10.891383</td><td>53711.52</td><td>10.677809</td><td>43382.38</td><td>6.652457</td><td> 774.6853</td><td>62045.74</td><td>62045.75</td><td>⋯</td><td>eligible    </td><td>eligible    </td><td>college or higher </td><td>college or higher </td><td>owner</td><td>         </td><td>publ empl</td><td>publ empl</td><td></td><td>kept</td></tr>\n",
              "\t<tr><td>34</td><td>1998</td><td>11.315439</td><td>82079.15</td><td>11.184411</td><td>71999.26</td><td>7.426539</td><td>1679.9826</td><td>79761.60</td><td>74130.43</td><td>⋯</td><td>non eligible</td><td>eligible    </td><td>college or higher </td><td>college or higher </td><td>owner</td><td>SE       </td><td>publ empl</td><td>         </td><td></td><td>kept</td></tr>\n",
              "\t<tr><td>34</td><td>2000</td><td>11.015616</td><td>60816.52</td><td>10.757788</td><td>46994.58</td><td>7.519109</td><td>1842.9248</td><td>79347.92</td><td>70786.28</td><td>⋯</td><td>eligible    </td><td>eligible    </td><td>college or higher </td><td>college or higher </td><td>owner</td><td>publ empl</td><td>publ empl</td><td>         </td><td></td><td>kept</td></tr>\n",
              "</tbody>\n",
              "</table>\n"
            ],
            "text/markdown": "\nA tibble: 6 × 142\n\n| nquest &lt;dbl&gt; | anno &lt;dbl&gt; | lnc &lt;dbl&gt; | c &lt;dbl&gt; | lncn &lt;dbl&gt; | cn &lt;dbl&gt; | lnjconsal &lt;dbl&gt; | jconsal &lt;dbl&gt; | y &lt;dbl&gt; | y_real &lt;dbl&gt; | ⋯ ⋯ | decoded_elig_m &lt;chr&gt; | decoded_elig_f &lt;chr&gt; | decoded_educ_m &lt;chr&gt; | decoded_educ_f &lt;chr&gt; | decoded_godabit &lt;chr&gt; | decoded_job_m &lt;chr&gt; | decoded_job_f &lt;chr&gt; | decoded_lret_m &lt;chr&gt; | decoded_lret_f &lt;chr&gt; | decoded_left &lt;chr&gt; |\n|---|---|---|---|---|---|---|---|---|---|---|---|---|---|---|---|---|---|---|---|---|\n| 25 | 1993 |  9.937795 | 20698.04 |  9.937795 | 20698.04 | 6.337746 |  565.5203 | 38066.96 | 41683.32 | ⋯ | non eligible | non eligible | vocational studies | vocational studies | owner | publ empl | publ empl | <!----> | <!----> | kept |\n| 25 | 1995 | 10.347980 | 31194.00 | 10.166983 | 26029.43 | 6.834778 |  929.6224 | 47497.71 | 47497.71 | ⋯ | non eligible | non eligible | upper secondary    | upper secondary    | owner | publ empl | publ empl | <!----> | <!----> | kept |\n| 34 | 1993 | 10.432091 | 33931.22 | 10.432091 | 33931.22 | 6.743211 |  848.2805 | 57677.22 | 63156.55 | ⋯ | eligible     | eligible     | college or higher  | upper secondary    | owner | <!----> | publ empl | publ empl | <!----> | kept |\n| 34 | 1995 | 10.891383 | 53711.52 | 10.677809 | 43382.38 | 6.652457 |  774.6853 | 62045.74 | 62045.75 | ⋯ | eligible     | eligible     | college or higher  | college or higher  | owner | <!----> | publ empl | publ empl | <!----> | kept |\n| 34 | 1998 | 11.315439 | 82079.15 | 11.184411 | 71999.26 | 7.426539 | 1679.9826 | 79761.60 | 74130.43 | ⋯ | non eligible | eligible     | college or higher  | college or higher  | owner | SE        | publ empl | <!----> | <!----> | kept |\n| 34 | 2000 | 11.015616 | 60816.52 | 10.757788 | 46994.58 | 7.519109 | 1842.9248 | 79347.92 | 70786.28 | ⋯ | eligible     | eligible     | college or higher  | college or higher  | owner | publ empl | publ empl | <!----> | <!----> | kept |\n\n",
            "text/latex": "A tibble: 6 × 142\n\\begin{tabular}{lllllllllllllllllllll}\n nquest & anno & lnc & c & lncn & cn & lnjconsal & jconsal & y & y\\_real & ⋯ & decoded\\_elig\\_m & decoded\\_elig\\_f & decoded\\_educ\\_m & decoded\\_educ\\_f & decoded\\_godabit & decoded\\_job\\_m & decoded\\_job\\_f & decoded\\_lret\\_m & decoded\\_lret\\_f & decoded\\_left\\\\\n <dbl> & <dbl> & <dbl> & <dbl> & <dbl> & <dbl> & <dbl> & <dbl> & <dbl> & <dbl> & ⋯ & <chr> & <chr> & <chr> & <chr> & <chr> & <chr> & <chr> & <chr> & <chr> & <chr>\\\\\n\\hline\n\t 25 & 1993 &  9.937795 & 20698.04 &  9.937795 & 20698.04 & 6.337746 &  565.5203 & 38066.96 & 41683.32 & ⋯ & non eligible & non eligible & vocational studies & vocational studies & owner & publ empl & publ empl &           &  & kept\\\\\n\t 25 & 1995 & 10.347980 & 31194.00 & 10.166983 & 26029.43 & 6.834778 &  929.6224 & 47497.71 & 47497.71 & ⋯ & non eligible & non eligible & upper secondary    & upper secondary    & owner & publ empl & publ empl &           &  & kept\\\\\n\t 34 & 1993 & 10.432091 & 33931.22 & 10.432091 & 33931.22 & 6.743211 &  848.2805 & 57677.22 & 63156.55 & ⋯ & eligible     & eligible     & college or higher  & upper secondary    & owner &           & publ empl & publ empl &  & kept\\\\\n\t 34 & 1995 & 10.891383 & 53711.52 & 10.677809 & 43382.38 & 6.652457 &  774.6853 & 62045.74 & 62045.75 & ⋯ & eligible     & eligible     & college or higher  & college or higher  & owner &           & publ empl & publ empl &  & kept\\\\\n\t 34 & 1998 & 11.315439 & 82079.15 & 11.184411 & 71999.26 & 7.426539 & 1679.9826 & 79761.60 & 74130.43 & ⋯ & non eligible & eligible     & college or higher  & college or higher  & owner & SE        & publ empl &           &  & kept\\\\\n\t 34 & 2000 & 11.015616 & 60816.52 & 10.757788 & 46994.58 & 7.519109 & 1842.9248 & 79347.92 & 70786.28 & ⋯ & eligible     & eligible     & college or higher  & college or higher  & owner & publ empl & publ empl &           &  & kept\\\\\n\\end{tabular}\n",
            "text/plain": [
              "  nquest anno lnc       c        lncn      cn       lnjconsal jconsal  \n",
              "1 25     1993  9.937795 20698.04  9.937795 20698.04 6.337746   565.5203\n",
              "2 25     1995 10.347980 31194.00 10.166983 26029.43 6.834778   929.6224\n",
              "3 34     1993 10.432091 33931.22 10.432091 33931.22 6.743211   848.2805\n",
              "4 34     1995 10.891383 53711.52 10.677809 43382.38 6.652457   774.6853\n",
              "5 34     1998 11.315439 82079.15 11.184411 71999.26 7.426539  1679.9826\n",
              "6 34     2000 11.015616 60816.52 10.757788 46994.58 7.519109  1842.9248\n",
              "  y        y_real   ⋯ decoded_elig_m decoded_elig_f decoded_educ_m    \n",
              "1 38066.96 41683.32 ⋯ non eligible   non eligible   vocational studies\n",
              "2 47497.71 47497.71 ⋯ non eligible   non eligible   upper secondary   \n",
              "3 57677.22 63156.55 ⋯ eligible       eligible       college or higher \n",
              "4 62045.74 62045.75 ⋯ eligible       eligible       college or higher \n",
              "5 79761.60 74130.43 ⋯ non eligible   eligible       college or higher \n",
              "6 79347.92 70786.28 ⋯ eligible       eligible       college or higher \n",
              "  decoded_educ_f     decoded_godabit decoded_job_m decoded_job_f decoded_lret_m\n",
              "1 vocational studies owner           publ empl     publ empl                   \n",
              "2 upper secondary    owner           publ empl     publ empl                   \n",
              "3 upper secondary    owner                         publ empl     publ empl     \n",
              "4 college or higher  owner                         publ empl     publ empl     \n",
              "5 college or higher  owner           SE            publ empl                   \n",
              "6 college or higher  owner           publ empl     publ empl                   \n",
              "  decoded_lret_f decoded_left\n",
              "1                kept        \n",
              "2                kept        \n",
              "3                kept        \n",
              "4                kept        \n",
              "5                kept        \n",
              "6                kept        "
            ]
          },
          "metadata": {}
        }
      ]
    },
    {
      "cell_type": "markdown",
      "source": [
        "# Mirada Inicial EDA"
      ],
      "metadata": {
        "id": "HV8uz7m-Z1LD"
      }
    },
    {
      "cell_type": "code",
      "source": [],
      "metadata": {
        "id": "8WvxI_cAahdJ"
      },
      "execution_count": null,
      "outputs": []
    }
  ]
}