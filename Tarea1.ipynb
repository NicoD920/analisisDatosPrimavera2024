{
  "nbformat": 4,
  "nbformat_minor": 0,
  "metadata": {
    "colab": {
      "provenance": [],
      "mount_file_id": "1GfPsv_FsqIPR86Dk-SnXeLE0_OSHdbV9",
      "authorship_tag": "ABX9TyPeT22EtwORDf7/lKjcZG4S",
      "include_colab_link": true
    },
    "kernelspec": {
      "name": "python3",
      "display_name": "Python 3"
    },
    "language_info": {
      "name": "python"
    }
  },
  "cells": [
    {
      "cell_type": "markdown",
      "metadata": {
        "id": "view-in-github",
        "colab_type": "text"
      },
      "source": [
        "<a href=\"https://colab.research.google.com/github/NicoD920/analisisDatosPrimavera2024/blob/main/Tarea1.ipynb\" target=\"_parent\"><img src=\"https://colab.research.google.com/assets/colab-badge.svg\" alt=\"Open In Colab\"/></a>"
      ]
    },
    {
      "cell_type": "markdown",
      "source": [
        "# **TAREA 1**\n",
        "## **Análisis de datos e inferencia causal**\n",
        "\n",
        "Integrantes:\n",
        "\n",
        "*   Elemento de lista\n",
        "*   Elemento de lista\n",
        "\n"
      ],
      "metadata": {
        "id": "XbhuzdDyiIto"
      }
    },
    {
      "cell_type": "code",
      "source": [
        "%pip install pyreadstat"
      ],
      "metadata": {
        "colab": {
          "base_uri": "https://localhost:8080/"
        },
        "id": "s34Ljykptn42",
        "outputId": "552ccdfd-4405-4ed0-faaa-a627ec0646f2"
      },
      "execution_count": 7,
      "outputs": [
        {
          "output_type": "stream",
          "name": "stdout",
          "text": [
            "Collecting pyreadstat\n",
            "  Downloading pyreadstat-1.2.7-cp310-cp310-manylinux_2_17_x86_64.manylinux2014_x86_64.whl.metadata (1.0 kB)\n",
            "Requirement already satisfied: pandas>=1.2.0 in /usr/local/lib/python3.10/dist-packages (from pyreadstat) (2.1.4)\n",
            "Requirement already satisfied: numpy<2,>=1.22.4 in /usr/local/lib/python3.10/dist-packages (from pandas>=1.2.0->pyreadstat) (1.26.4)\n",
            "Requirement already satisfied: python-dateutil>=2.8.2 in /usr/local/lib/python3.10/dist-packages (from pandas>=1.2.0->pyreadstat) (2.8.2)\n",
            "Requirement already satisfied: pytz>=2020.1 in /usr/local/lib/python3.10/dist-packages (from pandas>=1.2.0->pyreadstat) (2024.1)\n",
            "Requirement already satisfied: tzdata>=2022.1 in /usr/local/lib/python3.10/dist-packages (from pandas>=1.2.0->pyreadstat) (2024.1)\n",
            "Requirement already satisfied: six>=1.5 in /usr/local/lib/python3.10/dist-packages (from python-dateutil>=2.8.2->pandas>=1.2.0->pyreadstat) (1.16.0)\n",
            "Downloading pyreadstat-1.2.7-cp310-cp310-manylinux_2_17_x86_64.manylinux2014_x86_64.whl (2.8 MB)\n",
            "\u001b[2K   \u001b[90m━━━━━━━━━━━━━━━━━━━━━━━━━━━━━━━━━━━━━━━━\u001b[0m \u001b[32m2.8/2.8 MB\u001b[0m \u001b[31m27.1 MB/s\u001b[0m eta \u001b[36m0:00:00\u001b[0m\n",
            "\u001b[?25hInstalling collected packages: pyreadstat\n",
            "Successfully installed pyreadstat-1.2.7\n"
          ]
        }
      ]
    },
    {
      "cell_type": "code",
      "source": [
        "import os\n",
        "import pandas as pd\n",
        "import pyreadstat\n",
        "import zipfile"
      ],
      "metadata": {
        "id": "svHTQdqxt8Ig"
      },
      "execution_count": 11,
      "outputs": []
    },
    {
      "cell_type": "code",
      "execution_count": 3,
      "metadata": {
        "id": "dmSlpiCZgOMt"
      },
      "outputs": [],
      "source": [
        "archivo = \"/content/drive/MyDrive/Universidad/Primavera2024/Análisis de Datos/Tarea 1\"\n"
      ]
    },
    {
      "cell_type": "code",
      "source": [
        "archivo_casen = \"/content/drive/MyDrive/Universidad/Primavera2024/Análisis de Datos/Tarea 1/CASEN_2022\"\n",
        "archivo_censo = \"/content/drive/MyDrive/Universidad/Primavera2024/Análisis de Datos/Tarea 1/CENSO_2017\"\n",
        "archivo_natalidad = \"/content/drive/MyDrive/Universidad/Primavera2024/Análisis de Datos/Tarea 1/NATALIDAD\""
      ],
      "metadata": {
        "id": "XawUUPO9m3NN"
      },
      "execution_count": 4,
      "outputs": []
    },
    {
      "cell_type": "code",
      "source": [
        "# List files in each directory\n",
        "\n",
        "print(\"\\nFiles in 'archivo_casen':\")\n",
        "!ls \"{archivo_casen}\"\n",
        "\n",
        "print(\"\\nFiles in 'archivo_censo':\")\n",
        "!ls \"{archivo_censo}\"\n",
        "\n",
        "print(\"\\nFiles in 'archivo_natalidad':\")\n",
        "!ls \"{archivo_natalidad}\"\n"
      ],
      "metadata": {
        "colab": {
          "base_uri": "https://localhost:8080/"
        },
        "id": "jfvwTrkHnDA8",
        "outputId": "d2ffff81-cb6f-464c-f0a1-5ce1b7864683"
      },
      "execution_count": 16,
      "outputs": [
        {
          "output_type": "stream",
          "name": "stdout",
          "text": [
            "\n",
            "Files in 'archivo_casen':\n",
            "'Base de datos Casen 2022 SPSS_18 marzo 2024.sav.zip'\n",
            "'Base de datos Casen 2022 STATA_18 marzo 2024.dta.zip'\n",
            "'Base de datos provincia y comuna Casen 2022 SPSS.sav.zip'\n",
            "'Base de datos provincia y comuna Casen 2022 STATA.dta.zip'\n",
            "'Libro_de_codigos_Base_de_datos_Casen_2022(18marzo2024).xlsx'\n",
            "'Libro de codigos Base de datos provincia y comuna Casen 2022.xlsx'\n",
            "'Nota uso base de datos Casen 2022.pdf'\n",
            "'Registro_actualizaciones_Base_de_datos_Casen_2022_(18marzo2024).pdf'\n",
            "\n",
            "Files in 'archivo_censo':\n",
            "Cantidad-de-Personas-por-Sexo-y-Edad.xlsx  Cantidad-de-Viviendas-por-Tipo.xlsx\n",
            "\n",
            "Files in 'archivo_natalidad':\n",
            "datos.csv\n"
          ]
        }
      ]
    },
    {
      "cell_type": "code",
      "source": [
        "# 3. Descomprimir el archivo ZIP\n",
        "with zipfile.ZipFile(\"archivo_casen/Base de datos Casen 2022 STATA_18 marzo 2024.dta.zip\", 'r') as zip_ref:\n",
        "    zip_ref.extractall(\"archivo_casen\")\n",
        "\n",
        "# 4. Cargar el archivo .dta en un DataFrame\n",
        "db_casen_stata = pd.read_stata(\"archivo_casen/Base de datos Casen 2022 STATA_18 marzo 2024.dta\")\n",
        "\n",
        "# 5. Visualizar las primeras filas del DataFrame\n",
        "db_casen_stata.head()"
      ],
      "metadata": {
        "colab": {
          "base_uri": "https://localhost:8080/",
          "height": 384
        },
        "id": "V0P5DiWatwAz",
        "outputId": "ecee9a9c-fb7a-4fe7-e00f-87692ba76f44"
      },
      "execution_count": 15,
      "outputs": [
        {
          "output_type": "error",
          "ename": "FileNotFoundError",
          "evalue": "[Errno 2] No such file or directory: 'archivo_casen/Base de datos Casen 2022 STATA_18 marzo 2024.dta.zip'",
          "traceback": [
            "\u001b[0;31m---------------------------------------------------------------------------\u001b[0m",
            "\u001b[0;31mFileNotFoundError\u001b[0m                         Traceback (most recent call last)",
            "\u001b[0;32m<ipython-input-15-f689ddf421ee>\u001b[0m in \u001b[0;36m<cell line: 2>\u001b[0;34m()\u001b[0m\n\u001b[1;32m      1\u001b[0m \u001b[0;31m# 3. Descomprimir el archivo ZIP\u001b[0m\u001b[0;34m\u001b[0m\u001b[0;34m\u001b[0m\u001b[0m\n\u001b[0;32m----> 2\u001b[0;31m \u001b[0;32mwith\u001b[0m \u001b[0mzipfile\u001b[0m\u001b[0;34m.\u001b[0m\u001b[0mZipFile\u001b[0m\u001b[0;34m(\u001b[0m\u001b[0;34m\"archivo_casen/Base de datos Casen 2022 STATA_18 marzo 2024.dta.zip\"\u001b[0m\u001b[0;34m,\u001b[0m \u001b[0;34m'r'\u001b[0m\u001b[0;34m)\u001b[0m \u001b[0;32mas\u001b[0m \u001b[0mzip_ref\u001b[0m\u001b[0;34m:\u001b[0m\u001b[0;34m\u001b[0m\u001b[0;34m\u001b[0m\u001b[0m\n\u001b[0m\u001b[1;32m      3\u001b[0m     \u001b[0mzip_ref\u001b[0m\u001b[0;34m.\u001b[0m\u001b[0mextractall\u001b[0m\u001b[0;34m(\u001b[0m\u001b[0;34m\"archivo_casen\"\u001b[0m\u001b[0;34m)\u001b[0m\u001b[0;34m\u001b[0m\u001b[0;34m\u001b[0m\u001b[0m\n\u001b[1;32m      4\u001b[0m \u001b[0;34m\u001b[0m\u001b[0m\n\u001b[1;32m      5\u001b[0m \u001b[0;31m# 4. Cargar el archivo .dta en un DataFrame\u001b[0m\u001b[0;34m\u001b[0m\u001b[0;34m\u001b[0m\u001b[0m\n",
            "\u001b[0;32m/usr/lib/python3.10/zipfile.py\u001b[0m in \u001b[0;36m__init__\u001b[0;34m(self, file, mode, compression, allowZip64, compresslevel, strict_timestamps)\u001b[0m\n\u001b[1;32m   1251\u001b[0m             \u001b[0;32mwhile\u001b[0m \u001b[0;32mTrue\u001b[0m\u001b[0;34m:\u001b[0m\u001b[0;34m\u001b[0m\u001b[0;34m\u001b[0m\u001b[0m\n\u001b[1;32m   1252\u001b[0m                 \u001b[0;32mtry\u001b[0m\u001b[0;34m:\u001b[0m\u001b[0;34m\u001b[0m\u001b[0;34m\u001b[0m\u001b[0m\n\u001b[0;32m-> 1253\u001b[0;31m                     \u001b[0mself\u001b[0m\u001b[0;34m.\u001b[0m\u001b[0mfp\u001b[0m \u001b[0;34m=\u001b[0m \u001b[0mio\u001b[0m\u001b[0;34m.\u001b[0m\u001b[0mopen\u001b[0m\u001b[0;34m(\u001b[0m\u001b[0mfile\u001b[0m\u001b[0;34m,\u001b[0m \u001b[0mfilemode\u001b[0m\u001b[0;34m)\u001b[0m\u001b[0;34m\u001b[0m\u001b[0;34m\u001b[0m\u001b[0m\n\u001b[0m\u001b[1;32m   1254\u001b[0m                 \u001b[0;32mexcept\u001b[0m \u001b[0mOSError\u001b[0m\u001b[0;34m:\u001b[0m\u001b[0;34m\u001b[0m\u001b[0;34m\u001b[0m\u001b[0m\n\u001b[1;32m   1255\u001b[0m                     \u001b[0;32mif\u001b[0m \u001b[0mfilemode\u001b[0m \u001b[0;32min\u001b[0m \u001b[0mmodeDict\u001b[0m\u001b[0;34m:\u001b[0m\u001b[0;34m\u001b[0m\u001b[0;34m\u001b[0m\u001b[0m\n",
            "\u001b[0;31mFileNotFoundError\u001b[0m: [Errno 2] No such file or directory: 'archivo_casen/Base de datos Casen 2022 STATA_18 marzo 2024.dta.zip'"
          ]
        }
      ]
    },
    {
      "cell_type": "markdown",
      "source": [
        "# Nueva sección"
      ],
      "metadata": {
        "id": "fJSXDYXGjSsI"
      }
    },
    {
      "cell_type": "markdown",
      "source": [],
      "metadata": {
        "id": "_fDaPDH5nKn4"
      }
    }
  ]
}